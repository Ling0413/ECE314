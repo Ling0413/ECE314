{
 "cells": [
  {
   "cell_type": "markdown",
   "metadata": {},
   "source": [
    "# Lab 7: Introduction to Markov chains and random graphs"
   ]
  },
  {
   "cell_type": "markdown",
   "metadata": {},
   "source": [
    "In this lab we will be looking at Markov Processes.  Below is the code to import the modules we will be using throughout this lab."
   ]
  },
  {
   "cell_type": "code",
   "execution_count": 1,
   "metadata": {},
   "outputs": [
    {
     "name": "stdout",
     "output_type": "stream",
     "text": [
      "Modules Imported!\n"
     ]
    }
   ],
   "source": [
    "%matplotlib inline\n",
    "import matplotlib.pyplot as plt\n",
    "import matplotlib.image as img\n",
    "import numpy as np\n",
    "import scipy as sp\n",
    "import scipy.stats as st\n",
    "import pickle as pkl\n",
    "import csv as csv\n",
    "import networkx as nx  # If using your own computer may need to install networkx \n",
    "print (\"Modules Imported!\")"
   ]
  },
  {
   "cell_type": "markdown",
   "metadata": {},
   "source": [
    "## Introduction to Markov Chains:"
   ]
  },
  {
   "cell_type": "markdown",
   "metadata": {},
   "source": [
    "A Markov chain $(X[t]: t\\geq 0)$ is a sequence of random variables such that the distribution of each variable is determined by the random variable before it.  Equivalently, it is a sequence of states visited by a form of finite state machine with random transitions.  To describe how to generate the chain we specify the initial probability distribution $\\pi_0$ and a one-step transition probability matrix $P$.   We assume there is a finite state space described by {0,1,, . . . , $n-1$} for some $n$.  The intial distribution, $\\pi(0)$, should be a probability vector (nonnegative entries with sum equal to one) of length $n$.   It consists of the probability the process is in a given state at time zero: ${\\pi_i(0)} = P\\{X[0]=i\\}$ for $0\\leq i \\leq n-1.$    The matrix $P$ is an $n\\times n$ matrix such that each row of the matrix is a probability vector.   If the state of the Markov chain at time $t-1$ is $i$ (in other words, if $X[t-1]=i$), then the (conditional) probability distribution of $X[t]$, the state at time $t$, is given by the ith row of $P.$ Additionally, we can look at the individual entries: $p_{ij}=P\\left\\{X[t]=j \\; \\big| \\; X[t-1]=i\\right\\}$.  Below is a class that can be used to create a Markov chain.  An object in this class is created with specified values of $\\pi_0$ and $P$, and can be used to calculate the state distribution at any time or to generate a sample path (i.e. a variate of the sequence of states) of the Markov chain.  \n",
    "\n",
    "The state distributions are determined recursively as follows.  If $$\\pi_i(t)=P\\{X[t]=i\\}$$ then by the law of total probability, $$\\pi_j(t)= P\\{X[t]=j\\}=\\sum_i P\\{X[t-1]=i,X[t]=j\\} =\\sum_i \\pi_i(t-1)p_{i,j}$$  That is, if we view $\\pi(t)$ as a row vector for all $t,$ then $\\pi(t)=\\pi(t-1)P,$  where we have used multiplication of a row vector by a matrix.  (A nice introduction to Markov chains is given on wikipedia.)"
   ]
  },
  {
   "cell_type": "code",
   "execution_count": 2,
   "metadata": {},
   "outputs": [
    {
     "name": "stdout",
     "output_type": "stream",
     "text": [
      "Simulated state sequence\n",
      "[1 1 1 1 0 0 0 0 0 1 1 1 0 0 1 1 1 1 1 0 1 1 1 1 1 1 1 1 1 1 1 1 1 1 1 1 1\n",
      " 1 1 1 1 1 1 1 1 1 1 0 0 0 0 0 0 0 0 1 1 1 0 0 0 0 0 0 0 0 0 0 0 0 0 0 0 0\n",
      " 0 0 0 0 0 0 0 0 0 0 0 0 0 0 0 0 0 0 0 0 0 0 0 0 0 0]\n",
      "Distribution at time 0 : [0.1 0.9]\n",
      "Distribution at time 1 : [0.18 0.82]\n",
      "Distribution at time 2 : [0.244 0.756]\n",
      "Distribution at time 3 : [0.2952 0.7048]\n",
      "Distribution at time 4 : [0.33616 0.66384]\n",
      "Distribution at time 5 : [0.368928 0.631072]\n",
      "Distribution at time 6 : [0.3951424 0.6048576]\n",
      "Distribution at time 7 : [0.41611392 0.58388608]\n",
      "Distribution at time 8 : [0.43289114 0.56710886]\n",
      "Distribution at time 9 : [0.44631291 0.55368709]\n",
      "Distribution at time 10 : [0.45705033 0.54294967]\n",
      "Distribution at time 11 : [0.46564026 0.53435974]\n",
      "Distribution at time 12 : [0.47251221 0.52748779]\n",
      "Distribution at time 13 : [0.47800977 0.52199023]\n",
      "Distribution at time 14 : [0.48240781 0.51759219]\n",
      "Distribution at time 15 : [0.48592625 0.51407375]\n",
      "Distribution at time 16 : [0.488741 0.511259]\n",
      "Distribution at time 17 : [0.4909928 0.5090072]\n",
      "Distribution at time 18 : [0.49279424 0.50720576]\n",
      "Distribution at time 19 : [0.49423539 0.50576461]\n"
     ]
    }
   ],
   "source": [
    "# Markov chain object similar to random variable objects in scipy.stats (st)\n",
    "\n",
    "class Markov_chain:\n",
    "    def __init__(self, P, pi0):   # The transition probability matrix and initial distribution are passed\n",
    "        self.P = P \n",
    "        self.pi0 = pi0\n",
    "        self.n=np.size(pi0)\n",
    "        if np.shape(P) != (self.n,self.n):\n",
    "            print (\"Error: Shape of P doesn't match pi0\")\n",
    "   \n",
    "    def rvs(self,T):     # produce a length T segment of variates of the random process\n",
    "        X = [np.random.choice(self.n, p=self.pi0)] \n",
    "        for t in range(1,T):\n",
    "            X.append(np.random.choice(self.n, p=self.P[X[t-1],:]))\n",
    "        return np.array(X)\n",
    "    \n",
    "    def pi(self,t):    # produce probability distribution at time t\n",
    "        pi_new=self.pi0\n",
    "        for s in range(t):\n",
    "            pi_new = np.dot(pi_new, P)    # one step update of probability distribution\n",
    "        return pi_new\n",
    "\n",
    "# An example of how you can use the class to create and run through a simple two state chain\n",
    "P=np.array([[0.9,0.1],[0.1,0.9]])\n",
    "pi0=np.array([0.1,0.9])\n",
    "print ('Simulated state sequence')\n",
    "markov=Markov_chain(P,pi0)  \n",
    "print (markov.rvs(100))\n",
    "for t in range(20):\n",
    "    print (\"Distribution at time\", t, \":\", markov.pi(t))"
   ]
  },
  {
   "cell_type": "markdown",
   "metadata": {},
   "source": [
    "We won't go into this deeply, but notice how as the distributions change in time, they appear to be converging. For some Markov chains, there exists a limit for the distribution. If this occurs then the limit distribution $\\pi$ satisfies $\\pi = \\pi P$ and $\\pi$ is called an *equilibrium distribution.*\n",
    "\n",
    "<br>**<SPAN style=\"BACKGROUND-COLOR: #C0C0C0\">Problem 1:</SPAN>** Imagine that the states {0, . . . , n-1} of a particular Markov chain are the nodes of a ring graph, with state 0 following state n-1.   Create a Markov_chain object for n=6 with inital state 0 (so x[0]=0 with probability one) with the following transition probabilities:  given X[t-1]=i, X[t] is equal to i with probability 0.8 and to i+1 (modulo n) with probability 0.2.\n",
    "<ol>\n",
    "<li> Print the first 100 states for a simulation of the chain.</li>\n",
    "<li> Simulate the chain for 10,000 time units, and calculate the number of complete revolutions the chain makes around the ring, divided by 10,000.  This is an estimate of the long term cycle rate for the Markov chain.  Repeat the experiment ten times to get an idea of the variation from one experiment to the next.</li>\n",
    "<li> Give an analytical argument for what the long term cycle rate for this Makov chain should be.</li>"
   ]
  },
  {
   "cell_type": "code",
   "execution_count": 3,
   "metadata": {},
   "outputs": [
    {
     "name": "stdout",
     "output_type": "stream",
     "text": [
      "This is the first 100 states:\n",
      " [0 0 1 1 1 2 2 3 3 3 3 4 4 4 4 5 0 1 2 2 2 2 2 2 2 3 4 4 4 5 0 0 0 0 0 1 2\n",
      " 2 2 2 2 2 2 2 3 3 4 4 4 4 4 4 4 4 4 4 4 4 4 4 5 5 5 5 0 1 1 1 2 3 3 3 4 5\n",
      " 5 5 5 5 0 1 1 1 1 2 2 3 3 3 3 3 3 3 4 5 5 5 5 5 5 5 5]\n",
      "The number of complete revolutions after 10000 states is: 323\n",
      "The cycle rate is: 0.0323\n"
     ]
    }
   ],
   "source": [
    "# Your code here\n",
    "class Markov_Ring_Chain:\n",
    "    \n",
    "    def __init__(self,P,S_init,n):\n",
    "        self.P = P\n",
    "        self.S_init = S_init\n",
    "        self.n = n\n",
    "    \n",
    "    def transfer(self,cur_state):\n",
    "        next_state = cur_state\n",
    "        if np.random.choice(2,p = self.P):\n",
    "            next_state = (next_state+1) % self.n\n",
    "        return next_state\n",
    "    \n",
    "    def rvs(self,time):\n",
    "        X = [self.S_init]\n",
    "        for i in range(time):\n",
    "            X.append(self.transfer(X[-1]))\n",
    "        return np.array(X)\n",
    "    \n",
    "    def get_cycle(self,time):\n",
    "        X = [self.S_init]\n",
    "        cycle = 0\n",
    "        for i in range(time):\n",
    "            X.append(self.transfer(X[-1]))\n",
    "            if X[-1] == self.n-1 and X[-1] != X[-2]:\n",
    "                cycle = cycle + 1\n",
    "        return cycle\n",
    "\n",
    "#Create the Class\n",
    "n = 6\n",
    "P = [0.8,0.2]\n",
    "S_init = 0\n",
    "Markov = Markov_Ring_Chain(P,S_init,n)\n",
    "\n",
    "#This is for Problem(1)\n",
    "print('This is the first 100 states:\\n',Markov.rvs(100))\n",
    "\n",
    "#This is for Problem(2)\n",
    "a = Markov.get_cycle(10000)\n",
    "print('The number of complete revolutions after 10000 states is:',a)\n",
    "print('The cycle rate is:',a/10000)\n"
   ]
  },
  {
   "cell_type": "markdown",
   "metadata": {},
   "source": [
    "__Answer:__ (Your answer here)\n",
    "The answers for problem (1) and (2) are shown above.\n",
    "The answer for problem(3) is:\n",
    "We could consider each state as a geometric distribution. So the expect value of each geometric is 1/0.2 which means each state we have to 5 time to get out. So the total mean is 1/0.2*6 = 30. So the probability is 1/30 = 0.0333.\n"
   ]
  },
  {
   "cell_type": "markdown",
   "metadata": {},
   "source": [
    "**<SPAN style=\"BACKGROUND-COLOR: #C0C0C0\">End of Problem 1</SPAN>**"
   ]
  },
  {
   "cell_type": "markdown",
   "metadata": {},
   "source": [
    "## Markov Gibberish"
   ]
  },
  {
   "cell_type": "markdown",
   "metadata": {},
   "source": [
    "Let's look at some applications of a Markov Chain. When I was younger I remember using AIM (instant messenger) to talk to my friends. At some point people started to create bots which could hold conversations with users. Of course we had fun trying to get them to say things that didn't make sense, but the idea that it could generate somewhat relevant conversations was pretty cool. We're going to build a rudimentary version of that here. The code below generates text based on a large sample text, such that each word is generated based on the two words just before it.  The generated sequence of words is given by a 2-Markov chain (here \"2\" means that the distribution of the value of each word is determined by the two previous words, instead of just the one previous word).  That means that any three consecutive words in the generated text are also consecutive words somewhere in the sample text.   If words w1 w2 were the last two words added to the generated text string, then to generate the next word we look for all occurrences of w1 w2 as consecutive words in the sample text, and see what word was just after them for each occurrence.   The randomly generated text selects the next word to match one of those occurrences, selected at random with equal probability."
   ]
  },
  {
   "cell_type": "code",
   "execution_count": 4,
   "metadata": {},
   "outputs": [
    {
     "data": {
      "text/plain": [
       "'a Mrs. Vanderley, Stella, George, and I--when he came up. Somebody mentioned the \"Monna Lisa,\" and then he would raise Cain automatically. He\\'s always done it.\" I strained the old diaphragm, Jeeves was what he said \\'Kick Freddie.\\' That\\'s not going to do is to get busy, than I had half Jeeves\\'s brain, I should imagine Jeeves feels very much indeed, sir,\" he said suddenly. \"Look here. I gave up the facts. Voules had seen George kiss her when we used to be promoting failed to hand over to him about Mr. Todd? We\\'ve got to be among those present were myself,'"
      ]
     },
     "execution_count": 4,
     "metadata": {},
     "output_type": "execute_result"
    }
   ],
   "source": [
    "# Based on http://agiliq.com/blog/2009/06/generating-pseudo-random-text-with-markov-chains-u/    --BH\n",
    "# Next word of random string is selected from possible word that follow the last two words.\n",
    "\n",
    "\n",
    "class Markov_text:\n",
    "    def __init__(self, open_file):   # The single parameter passed is a file handle\n",
    "        self.cache = {}  # Will be dictionary mapping a key (two consecutive words) to possible next word\n",
    "        self.open_file = open_file\n",
    "        self.words = self.file_to_words()  # Read the words from the file into array self.words\n",
    "        self.word_size = len(self.words)\n",
    "        self.database()   # Fill in the dictionary\n",
    "       \n",
    "       \n",
    "    def file_to_words(self):\n",
    "        self.open_file.seek(0)\n",
    "        data = self.open_file.read()\n",
    "        words = data.split()\n",
    "        return words\n",
    "           \n",
    "       \n",
    "    def triples(self):\n",
    "    #Generates triples from the given data string. So if our string were\n",
    "    # \"What a lovely day\", we'd generate (What, a, lovely) and then (a, lovely, day).\"\"\"\n",
    "           \n",
    "        if self.word_size < 3:\n",
    "            return\n",
    "         \n",
    "        for i in range(self.word_size - 2):\n",
    "            yield (self.words[i], self.words[i+1], self.words[i+2])    #Like return but returns a generator to be used once\n",
    "               \n",
    "    def database(self):\n",
    "        for w1, w2, w3 in self.triples():\n",
    "            key = (w1, w2)\n",
    "            if key in self.cache:\n",
    "                self.cache[key].append(w3)\n",
    "            else:\n",
    "                self.cache[key] = [w3]\n",
    "                         \n",
    "    def generate_markov_text(self, size=100):\n",
    "        seed = np.random.randint(0, self.word_size-3)\n",
    "        w1, w2 = self.words[seed], self.words[seed+1]  # Initial key is (w1,w2)\n",
    "        gen_words = [w1,w2]\n",
    "        for i in range(size):\n",
    "            w1, w2 = w2, np.random.choice(self.cache[(w1, w2)])\n",
    "            gen_words.append(w2)\n",
    "        return ' '.join(gen_words)\n",
    "                \n",
    "        \n",
    "        \n",
    "file_ = open('Jeeves.txt')\n",
    "markov = Markov_text(file_)   # Creates the object markov using the file\n",
    "markov.generate_markov_text()   # Generate random text\n",
    "\n",
    "# The above has a slight bug.   It is possible for the key to be the\n",
    "# last two words in the text file and have no entry in the dictionary.\n",
    "# This won't happen if the last two words in the text file appear\n",
    "# consecutively somewhere else in the file.   -BH"
   ]
  },
  {
   "cell_type": "markdown",
   "metadata": {},
   "source": [
    "With punctuation and everything, this initially looks like a bit of a mess. However, the sentences themselves are coming together and can make a little bit of sense. It is a very primitive version of those bots on instant messaging.\n",
    "\n",
    "<br>**<SPAN style=\"BACKGROUND-COLOR: #C0C0C0\">Problem 2:</SPAN>** Using the class above, do the following:\n",
    "<ol><li> Find your own text file or copy and paste from somewhere and use the text to create gibberish from that. To work well, your file really needs to contain a large amount of text. The \"Jeeves\" file was pulled from a short story. Print out your own 100 word gibberish paragraph based on the text file you used.</li>\n",
    "<li> Rewrite the code to create a 1-Markov Chain of the words instead of the 2-Markov Chain given above. Print out your own 100 word gibberish paragraph from this.</li>\n",
    "<li> Rewrite the code to create a 3-Markov Chain of the words instead of the 2-Markov Chain given above. Print out your own 100 word gibberish paragraph from this.</li>\n",
    "<li> Comment on the qualitative differences of your paragraphs using these methods.</li>"
   ]
  },
  {
   "cell_type": "code",
   "execution_count": 14,
   "metadata": {},
   "outputs": [
    {
     "name": "stdout",
     "output_type": "stream",
     "text": [
      "This is my own 100 word gibberish paragraph using 2 chains:\n",
      " you deserve.\" \"Alas!\" thought the merchant, \"if my daughter Beauty couldonly know what danger her rose has brought me into!\" And in despair he began to terrify him, and he resolved to search for him. Up and down the paths and avenues ran poor Beauty, calling him in her dream. She rushed down it, and, sure enough, there was some new and surprisingentertainment to be tired, she sat down cosily in thecorner of a dark forest, and seemed so grieved atthe thought of her mysteriousPrince. The days passed swiftly in different amusements, andafter a while Beauty found out another strange thing in\n",
      "\n",
      "This is my own 100 word gibberish paragraph using 1 chain:\n",
      " hadhardly finished their former friends even when at yourwedding?\" And when morning she would, she had been as large as she could do not the fatal day when it could ill bespared, determined to pay the poor Beauty, and talked about her, and askedroughly if she saw. The merchant, \"if he had ever that Beauty couldonly know what was really gentle in heaps upon which led her heartguide her, and then a charming girl, for having restored mydear son from the Beast really frightened; so, after saying, \"Beauty, will thereforego back at her father's voice, and had read, as sad as\n",
      "\n",
      "This is my own 100 word gibberish paragraph using 3 chains:\n",
      " before him a flight of agate steps, and went up them, and passed throughseveral splendidly furnished rooms. The pleasant warmth of theair revived him, and he resolved to search once morethrough all the rooms; but it was of no use. Not even a servantwas to be seen; there was no sign of life in the palace! He beganto wonder what he should do, and to amuse himself by pretendingthat all the treasures he saw were his own, and considering howhe would divide them among his children. Then he went downinto the garden, and though it was harvest-time, and he could ill bespared, determined\n"
     ]
    }
   ],
   "source": [
    "# Your code here (add additional code cells if necessary)\n",
    "\n",
    "#Problem2(1)\n",
    "file_ = open('Beauty and The Beast.txt')\n",
    "markov = Markov_text(file_)\n",
    "print('This is my own 100 word gibberish paragraph using 2 chains:\\n',markov.generate_markov_text())\n",
    "\n",
    "#Problem2(2)\n",
    "class Markov1_text:\n",
    "    def __init__(self, open_file):   # The single parameter passed is a file handle\n",
    "        self.cache = {}  # Will be dictionary mapping a key (two consecutive words) to possible next word\n",
    "        self.open_file = open_file\n",
    "        self.words = self.file_to_words()  # Read the words from the file into array self.words\n",
    "        self.word_size = len(self.words)\n",
    "        self.database()   # Fill in the dictionary\n",
    "       \n",
    "       \n",
    "    def file_to_words(self):\n",
    "        self.open_file.seek(0)\n",
    "        data = self.open_file.read()\n",
    "        words = data.split()\n",
    "        return words\n",
    "           \n",
    "       \n",
    "    def triples(self):\n",
    "    #Generates triples from the given data string. So if our string were\n",
    "    # \"What a lovely day\", we'd generate (What, a, lovely) and then (a, lovely, day).\"\"\"\n",
    "           \n",
    "        if self.word_size < 2:\n",
    "            return\n",
    "         \n",
    "        for i in range(self.word_size - 1):\n",
    "            yield (self.words[i], self.words[i+1])    #Like return but returns a generator to be used once\n",
    "               \n",
    "    def database(self):\n",
    "        for w1, w2 in self.triples():\n",
    "            key = w1\n",
    "            if key in self.cache:\n",
    "                self.cache[key].append(w2)\n",
    "            else:\n",
    "                self.cache[key] = [w2]\n",
    "                         \n",
    "    def generate_markov_text(self, size=100):\n",
    "        seed = np.random.randint(0, self.word_size-2)\n",
    "        w1 = self.words[seed]  # Initial key is (w1,w2)\n",
    "        gen_words = [w1]\n",
    "        for i in range(size):\n",
    "            w1 = np.random.choice(self.cache[w1])\n",
    "            gen_words.append(w1)\n",
    "        return ' '.join(gen_words)\n",
    "\n",
    "markov = Markov1_text(file_)\n",
    "print('\\nThis is my own 100 word gibberish paragraph using 1 chain:\\n',markov.generate_markov_text())\n",
    "\n",
    "#Problem2(3)\n",
    "class Markov3_text:\n",
    "    def __init__(self, open_file):   # The single parameter passed is a file handle\n",
    "        self.cache = {}  # Will be dictionary mapping a key (two consecutive words) to possible next word\n",
    "        self.open_file = open_file\n",
    "        self.words = self.file_to_words()  # Read the words from the file into array self.words\n",
    "        self.word_size = len(self.words)\n",
    "        self.database()   # Fill in the dictionary\n",
    "       \n",
    "       \n",
    "    def file_to_words(self):\n",
    "        self.open_file.seek(0)\n",
    "        data = self.open_file.read()\n",
    "        words = data.split()\n",
    "        return words\n",
    "           \n",
    "       \n",
    "    def triples(self):\n",
    "    #Generates triples from the given data string. So if our string were\n",
    "    # \"What a lovely day\", we'd generate (What, a, lovely) and then (a, lovely, day).\"\"\"\n",
    "           \n",
    "        if self.word_size < 4:\n",
    "            return\n",
    "         \n",
    "        for i in range(self.word_size - 3):\n",
    "            yield (self.words[i], self.words[i+1],self.words[i+2],self.words[i+3])    #Like return but returns a generator to be used once\n",
    "               \n",
    "    def database(self):\n",
    "        for w1, w2,w3,w4 in self.triples():\n",
    "            key = (w1,w2,w3)\n",
    "            if key in self.cache:\n",
    "                self.cache[key].append(w4)\n",
    "            else:\n",
    "                self.cache[key] = [w4]\n",
    "                         \n",
    "    def generate_markov_text(self, size=100):\n",
    "        seed = np.random.randint(0, self.word_size-4)\n",
    "        w1,w2,w3 = self.words[seed],self.words[seed+1],self.words[seed+2]  # Initial key is (w1,w2)\n",
    "        gen_words = [w1,w2,w3]\n",
    "        for i in range(size):\n",
    "            w1,w2,w3 =w2,w3, np.random.choice(self.cache[(w1,w2,w3)])\n",
    "            gen_words.append(w3)\n",
    "        return ' '.join(gen_words)\n",
    "markov = Markov3_text(file_)\n",
    "print('\\nThis is my own 100 word gibberish paragraph using 3 chains:\\n',markov.generate_markov_text())\n",
    "    "
   ]
  },
  {
   "cell_type": "markdown",
   "metadata": {},
   "source": [
    "__Answer:__ (Your answer here)\n",
    "\n",
    "The sentence generated by 3-Markov is more reasonable than 2-Markov.\n",
    "\n",
    "The sentence generated by 2-Markov is more reasonable than 1-Markov.\n",
    "\n"
   ]
  },
  {
   "cell_type": "markdown",
   "metadata": {},
   "source": [
    "**<SPAN style=\"BACKGROUND-COLOR: #C0C0C0\">End of Problem 2</SPAN>**"
   ]
  },
  {
   "cell_type": "markdown",
   "metadata": {},
   "source": [
    "## Random Graphs and Working with Graphs"
   ]
  },
  {
   "cell_type": "markdown",
   "metadata": {},
   "source": [
    "Markov chains that are time independent and finite can be represented really well by graphs. I'm sure you've used finite state machines to describe processes or sequences in some of your other classes. They can also be useful in analyzing or describing networks. Networkx is an extensive Python package for generating and analyzing graphs (the kind with nodes and edges) and can also plot them.  The following code adapted from the networkx webpage generates a random undirected graph by placing nodes at random locations within the unit square and connecting nodes together if their distance is less than a specified threshold."
   ]
  },
  {
   "cell_type": "code",
   "execution_count": 22,
   "metadata": {},
   "outputs": [
    {
     "name": "stdout",
     "output_type": "stream",
     "text": [
      "The center node is located at: 0.42214744861453934 , 0.5287540908171096\n",
      "The graph is connected\n"
     ]
    },
    {
     "data": {
      "image/png": "[encoded data removed]",
      "text/plain": [
       "<Figure size 576x576 with 1 Axes>"
      ]
     },
     "metadata": {},
     "output_type": "display_data"
    }
   ],
   "source": [
    "#import networkx as nx  DEBUGGING\n",
    "\n",
    "d=0.16 # distance threshold, pairs of nodes within distance d are connected by an edge\n",
    "G=nx.random_geometric_graph(100,d)  #100 nodes in unit square, distance threshold d\n",
    "# position is stored as node attribute data for random_geometric_graph\n",
    "pos=nx.get_node_attributes(G,'pos')  # pos is a dictionary, with the indices as keys, ranging from 0 to 99\n",
    "\n",
    "# find node nearest to (0.5,0.5), called the center node\n",
    "dmin=1\n",
    "ncenter=0\n",
    "for n in pos:\n",
    "    x,y=pos[n]\n",
    "    d=(x-0.5)**2+(y-0.5)**2\n",
    "    if d<dmin:\n",
    "        ncenter=n\n",
    "        dmin=d\n",
    "\n",
    "print ('The center node is located at:', pos[ncenter][0], ',', pos[ncenter][1])\n",
    "# color by path length from node near center\n",
    "p=nx.single_source_shortest_path_length(G,ncenter)  #p is dictionary: keys are nodes, values are distances to center\n",
    "                                                    #Node not connected to the center node are not listed in p.\n",
    "                                                    # p include the center node itself.\n",
    "\n",
    "if nx.is_connected(G):   # The Networkx method is_connected checks for connectness\n",
    "    print (\"The graph is connected\")\n",
    "else: print (\"The graph is not connected\")\n",
    "\n",
    "plt.figure(figsize=(8,8))\n",
    "# nx.draw_networkx_edges(G,pos,nodelist=[ncenter],alpha=0.4)  #All edges are drwn\n",
    "nx.draw_networkx_edges(G,pos,alpha=0.4)  #All edges are drwn\n",
    "nx.draw_networkx_nodes(G,pos,alpha=0.3,node_size=80)  #All nodes are drawn but nearly transparent\n",
    "nx.draw_networkx_nodes(G,pos,nodelist=p.keys(),   # Nodes connected to center node are drawn, closer nodes have darker color\n",
    "                       node_size=80)\n",
    "\n",
    "plt.xlim(-0.05,1.05)\n",
    "plt.ylim(-0.05,1.05)\n",
    "plt.axis('off')\n",
    "plt.savefig('random_geometric_graph.png')\n",
    "plt.show()"
   ]
  },
  {
   "cell_type": "markdown",
   "metadata": {},
   "source": [
    "Excellent documentation for NetworkX is available online (search for NetworkX documentation). We find a plethora of classes for generating both undirected graphs (no arrows on the edges) and directed graphs.   Run the code in the above cell a few dozen times, and see how often the graph generated is *connected*, meaning that there is a path through the graph from any node to any other node.   One way a graph could be not connnected is to have an isolated node, which is a node with no neighbors.   Also, try changing the value of the threshold d and seeing the effect on connectivity.\n",
    "\n",
    "<br>**<SPAN style=\"BACKGROUND-COLOR: #C0C0C0\">Problem 3:</SPAN>**   Estimate the probability of connectivity for the above model (100 nodes at random locations in unit square with edges between pairs of nodes at distance d or smaller) for values of d in 0.10, 0.11, . . . , 0.20 by generating 1000 instances for each d and seeing the fraction of them that are connected. Is there a sort of threshold where the odds of a connected graph jumps significantly?"
   ]
  },
  {
   "cell_type": "code",
   "execution_count": 10,
   "metadata": {},
   "outputs": [
    {
     "name": "stdout",
     "output_type": "stream",
     "text": [
      "The fraction of connected for d = 0.100000 is: 0.0\n",
      "The fraction of connected for d = 0.110000 is: 0.0\n",
      "The fraction of connected for d = 0.120000 is: 0.002\n",
      "The fraction of connected for d = 0.130000 is: 0.017\n",
      "The fraction of connected for d = 0.140000 is: 0.109\n",
      "The fraction of connected for d = 0.150000 is: 0.32\n",
      "The fraction of connected for d = 0.160000 is: 0.504\n",
      "The fraction of connected for d = 0.170000 is: 0.69\n",
      "The fraction of connected for d = 0.180000 is: 0.812\n",
      "The fraction of connected for d = 0.190000 is: 0.893\n",
      "The fraction of connected for d = 0.200000 is: 0.926\n"
     ]
    }
   ],
   "source": [
    "# Your code here\n",
    "T = 1000\n",
    "for i in range(10,21):\n",
    "    d = i/100\n",
    "    count = 0\n",
    "    for s in range(T):\n",
    "        G=nx.random_geometric_graph(100,d)  \n",
    "        pos=nx.get_node_attributes(G,'pos')\n",
    "        dmin = 1\n",
    "        ncenter = 0\n",
    "        for n in pos:\n",
    "            x,y = pos[n]\n",
    "            dis = (x-0.5)**2+(y-0.5)**2\n",
    "            if dis < dmin:\n",
    "                ncenter = n\n",
    "                dmin = dis\n",
    "        p=nx.single_source_shortest_path_length(G,ncenter)\n",
    "        if nx.is_connected(G):\n",
    "            count = count+1\n",
    "    print('The fraction of connected for d = %2f is:'%d,count/1000)"
   ]
  },
  {
   "cell_type": "markdown",
   "metadata": {},
   "source": [
    "__Answer:__ (Your answer here)\n",
    "\n",
    "As we can see, when the distance is larger than 0.14 it will jump significantly."
   ]
  },
  {
   "cell_type": "markdown",
   "metadata": {},
   "source": [
    "**<SPAN style=\"BACKGROUND-COLOR: #C0C0C0\">End of Problem 3</SPAN>**"
   ]
  },
  {
   "cell_type": "markdown",
   "metadata": {},
   "source": [
    "The probability of connectivity can be approximately computed analytically as follows.  You might have noticed in the simulations that the main cause of disconnectivity is having at least one isolated node (no neighbors).\n",
    "\n",
    "<br>**<SPAN style=\"BACKGROUND-COLOR: #C0C0C0\">Problem 4:</SPAN>**   Consider the same model.  Imagine that 100 nodes, numbered from 1 to 100, are independently placed in the unit square with a uniform distribution for each node, and then edges are placed between pairs of nodes at distance d or smaller.  Except for the second half of the fourth part below, your answers should be an expression involving $d.$   No computation is required.\n",
    "<ol><li> Focus on node 1. Suppose for simplicity it is not near the boundary of the square, so the entire disk of radius $d$ around the node is in the square.   What is the probability that a given other node (say, node 2) is *not* within distance $d$ of node 1?\n",
    "<li>  What is the probability node 1 is isolated (i.e. *none* of the other nodes is within distance $d$ of node 1)?\n",
    "<li>  What is the expected number of isolated nodes?\n",
    "<li>  Assume (this is a reasonable approximation) the total number of isolated nodes has the Poisson distribution with mean given by the answer to the previous problem part.   What is the probability that there are no isolated nodes?\n",
    "Compute the numerical values for  d in 0.10, 0.11, . . . , 0.20 and compare to the estimated probability the\n",
    "graph is connected in Problem 3. </ol>"
   ]
  },
  {
   "cell_type": "markdown",
   "metadata": {
    "collapsed": true
   },
   "source": [
    "__Answer:__ (Your answer here)\n",
    "Problem 1:\n",
    "$P = 1 - \\pi * d ^ 2$\n",
    "\n",
    "Problem 2:\n",
    "$P = (1 - \\pi * d ^ 2)^ {99}$\n",
    "\n",
    "Problem 3:\n",
    "$E[X] = 100*(1 - \\pi * d ^ 2)^ {99}$\n",
    "\n",
    "Problem 4:\n",
    "$P = e^{-100*(1 - \\pi * d ^ 2)^ {99}}$"
   ]
  },
  {
   "cell_type": "code",
   "execution_count": 12,
   "metadata": {},
   "outputs": [
    {
     "name": "stdout",
     "output_type": "stream",
     "text": [
      "The expaction of isolated nodes in distance 0.100000 is: 0.014375382556273155\n",
      "The expaction of isolated nodes in distance 0.110000 is: 0.11573548129613279\n",
      "The expaction of isolated nodes in distance 0.120000 is: 0.3597690669272207\n",
      "The expaction of isolated nodes in distance 0.130000 is: 0.6368236824267614\n",
      "The expaction of isolated nodes in distance 0.140000 is: 0.8309712238173423\n",
      "The expaction of isolated nodes in distance 0.150000 is: 0.9319422565913525\n",
      "The expaction of isolated nodes in distance 0.160000 is: 0.9754666715905875\n",
      "The expaction of isolated nodes in distance 0.170000 is: 0.9919479603219504\n",
      "The expaction of isolated nodes in distance 0.180000 is: 0.9975789752005879\n",
      "The expaction of isolated nodes in distance 0.190000 is: 0.999332667029149\n",
      "The expaction of isolated nodes in distance 0.200000 is: 0.9998316800547294\n"
     ]
    }
   ],
   "source": [
    "# Your code here (if necessary)\n",
    "from math import *\n",
    "for i in range(10,21):\n",
    "    d = i/100\n",
    "    lamb = 100*(1-pi*d**2)**99\n",
    "    p = e**(-lamb)\n",
    "    print('The expaction of isolated nodes in distance %f is:' %d,p)"
   ]
  },
  {
   "cell_type": "markdown",
   "metadata": {},
   "source": [
    "**<SPAN style=\"BACKGROUND-COLOR: #C0C0C0\">End of Problem 4</SPAN>**"
   ]
  },
  {
   "cell_type": "markdown",
   "metadata": {},
   "source": [
    "## Lab Questions:"
   ]
  },
  {
   "cell_type": "markdown",
   "metadata": {},
   "source": [
    "Make sure to complete all lab questions 1-4 for this weeks lab."
   ]
  },
  {
   "cell_type": "markdown",
   "metadata": {},
   "source": [
    "<div class=\"alert alert-block alert-warning\"> \n",
    "## Academic Integrity Statement ##\n",
    "\n",
    "By submitting the lab with this statement, you declare you have written up the lab entirely by yourself, including both code and markdown cells. You also agree that you should not share your code with anyone else. Any violation of the academic integrity requirement may cause an academic integrity report to be filed that could go into your student record. See <a href=\"https://provost.illinois.edu/policies/policies/academic-integrity/students-quick-reference-guide-to-academic-integrity/\">Students' Quick Reference Guide to Academic Integrity</a> for more information. "
   ]
  }
 ],
 "metadata": {
  "anaconda-cloud": {},
  "kernelspec": {
   "display_name": "Python 3",
   "language": "python",
   "name": "python3"
  },
  "language_info": {
   "codemirror_mode": {
    "name": "ipython",
    "version": 3
   },
   "file_extension": ".py",
   "mimetype": "text/x-python",
   "name": "python",
   "nbconvert_exporter": "python",
   "pygments_lexer": "ipython3",
   "version": "3.6.5"
  }
 },
 "nbformat": 4,
 "nbformat_minor": 1
}
